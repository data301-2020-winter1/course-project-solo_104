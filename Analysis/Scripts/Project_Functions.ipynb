{
 "cells": [
  {
   "cell_type": "code",
   "execution_count": null,
   "metadata": {},
   "outputs": [],
   "source": [
    "import pandas as pd\n",
    "import seaborn as sns \n",
    "import matplotlib.pyplot as plt"
   ]
  },
  {
   "cell_type": "code",
   "execution_count": null,
   "metadata": {},
   "outputs": [],
   "source": [
    "#1\n",
    "def PDOdata (games1):\n",
    "    \"\"\"create a boxplot of PDO by team\"\"\"\n",
    "    PDO = (\n",
    "        games1.groupby(\n",
    "            \"Team\")[\"PDO\"].mean()\n",
    "        .reset_index()\n",
    "        .sort_values(\n",
    "            by = [\"PDO\"], ascending = False)\n",
    "        .reset_index()\n",
    "        .drop(\n",
    "            columns = [\"index\"])\n",
    "    )\n",
    "    PDO\n",
    "    fig_dims=(8,6)\n",
    "    fig, ax = plt.subplots(figsize=fig_dims)\n",
    "    sns.barplot(x=\"PDO\", y=\"Team\", data = PDO, palette = \"rocket\", order = order)\n",
    "    return PDO"
   ]
  },
  {
   "cell_type": "code",
   "execution_count": null,
   "metadata": {},
   "outputs": [],
   "source": [
    "#2\n",
    "def CFdata (games1):\n",
    "    \"\"\"create a boxplot of CF% by team\"\"\"\n",
    "    CF = (\n",
    "        games1.groupby(\n",
    "            \"Team\")[\"CF%\"].mean()\n",
    "        .reset_index()\n",
    "        .sort_values(\n",
    "            by = [\"CF%\"], ascending = False)\n",
    "        .reset_index()\n",
    "        .drop(\n",
    "            columns = [\"index\"])\n",
    "    )\n",
    "    CF\n",
    "    fig_dims=(8,6)\n",
    "    fig, ax = plt.subplots(figsize=fig_dims)\n",
    "    sns.barplot(x=\"CF%\", y=\"Team\", data = CF, palette = \"rocket\", order = order)\n",
    "    return CF"
   ]
  },
  {
   "cell_type": "code",
   "execution_count": null,
   "metadata": {},
   "outputs": [],
   "source": [
    "#3\n",
    "def SVperdata (games1):\n",
    "    \"\"\"create a boxplot of SV% by team\"\"\"\n",
    "    SV = (\n",
    "        games1.groupby(\n",
    "            \"Team\")[\"SV%\"].mean()\n",
    "        .reset_index()\n",
    "        .sort_values(\n",
    "            by = [\"SV%\"], ascending = False)\n",
    "        .reset_index()\n",
    "        .drop(\n",
    "            columns = [\"index\"])\n",
    "    )\n",
    "    SV\n",
    "    fig_dims=(8,6)\n",
    "    fig, ax = plt.subplots(figsize=fig_dims)\n",
    "    sns.barplot(x=\"SV%\", y=\"Team\", data = SV, palette = \"rocket\", order = order)\n",
    "    return SV"
   ]
  },
  {
   "cell_type": "code",
   "execution_count": null,
   "metadata": {},
   "outputs": [],
   "source": [
    "#4\n",
    "def SHperdata (games1):\n",
    "    \"\"\"create a boxplot of SH% by team\"\"\"\n",
    "    SH = (\n",
    "        games1.groupby(\n",
    "            \"Team\")[\"SH%\"].mean()\n",
    "        .reset_index()\n",
    "        .sort_values(\n",
    "            by = [\"SH%\"], ascending = False)\n",
    "        .reset_index()\n",
    "        .drop(\n",
    "            columns = [\"index\"])\n",
    "    )\n",
    "    SH\n",
    "    fig_dims=(8,6)\n",
    "    fig, ax = plt.subplots(figsize=fig_dims)\n",
    "    sns.barplot(x=\"SH%\", y=\"Team\", data = SH, palette = \"rocket\", order = order)\n",
    "    return SH"
   ]
  },
  {
   "cell_type": "code",
   "execution_count": null,
   "metadata": {},
   "outputs": [],
   "source": [
    "#5\n",
    "def xGFdata(games1):\n",
    "    \"\"\"create a boxplot of xGF% by team\"\"\"\n",
    "    xGF = (\n",
    "        games1.groupby(\n",
    "            \"Team\")[\"xGF%\"].mean()\n",
    "        .reset_index()\n",
    "        .sort_values(\n",
    "            by = [\"xGF%\"], ascending = False)\n",
    "        .reset_index()\n",
    "        .drop(\n",
    "            columns = [\"index\"])\n",
    "    )\n",
    "    xGF\n",
    "    fig_dims=(8,6)\n",
    "    fig, ax = plt.subplots(figsize=fig_dims)\n",
    "    sns.barplot(x=\"xGF%\", y=\"Team\", data = xGF, palette = \"mako\", order = order)\n",
    "    return xGF"
   ]
  },
  {
   "cell_type": "code",
   "execution_count": null,
   "metadata": {},
   "outputs": [],
   "source": [
    "#6\n",
    "def SFperdata (games1):\n",
    "    \"\"\"create a boxplot of SF% by team\"\"\"\n",
    "    SF = (\n",
    "        games1.groupby(\n",
    "            \"Team\")[\"SF%\"].mean()\n",
    "        .reset_index()\n",
    "        .sort_values(\n",
    "            by = [\"SF%\"], ascending = False)\n",
    "        .reset_index()\n",
    "        .drop(\n",
    "            columns = [\"index\"])\n",
    "    )\n",
    "    SF\n",
    "    fig_dims=(8,6)\n",
    "    fig, ax = plt.subplots(figsize=fig_dims)\n",
    "    sns.barplot(x=\"SF%\", y=\"Team\", data = SF, palette = \"mako\", order = order)\n",
    "    return SF"
   ]
  },
  {
   "cell_type": "code",
   "execution_count": null,
   "metadata": {},
   "outputs": [],
   "source": [
    "#7\n",
    "def SAdata(games1): \n",
    "    \"\"\"create a boxplot of SA by team\"\"\"\n",
    "    SA = (\n",
    "        games1.groupby(\n",
    "            \"Team\")[\"SA\"].mean()\n",
    "        .reset_index()\n",
    "        .sort_values(\n",
    "            by = [\"SA\"], ascending = True)\n",
    "        .reset_index()\n",
    "        .drop(\n",
    "            columns = [\"index\"])\n",
    "    )\n",
    "    SA\n",
    "    fig_dims=(8,6)\n",
    "    fig, ax = plt.subplots(figsize=fig_dims)\n",
    "    sns.barplot(x=\"SA\", y=\"Team\", data = SA, palette = \"seismic\", order = order)\n",
    "    return SA"
   ]
  },
  {
   "cell_type": "code",
   "execution_count": null,
   "metadata": {},
   "outputs": [],
   "source": [
    "#8\n",
    "def HDSFdata(games1):\n",
    "    \"\"\"create a boxplot of HDSF% by team\"\"\"\n",
    "    HDSF = (\n",
    "        games1.groupby(\n",
    "            \"Team\")[\"HDSF%\"].mean()\n",
    "        .reset_index()\n",
    "        .sort_values(\n",
    "            by = [\"HDSF%\"], ascending = False)\n",
    "        .reset_index()\n",
    "        .drop(\n",
    "            columns = [\"index\"])\n",
    "    )\n",
    "    HDSF\n",
    "    fig_dims=(8,6)\n",
    "    fig, ax = plt.subplots(figsize=fig_dims)\n",
    "    sns.barplot(x=\"HDSF%\", y=\"Team\", data = HDSF, palette = \"rainbow\", order = order)\n",
    "    return HDSF"
   ]
  }
 ],
 "metadata": {
  "kernelspec": {
   "display_name": "Python 3",
   "language": "python",
   "name": "python3"
  },
  "language_info": {
   "codemirror_mode": {
    "name": "ipython",
    "version": 3
   },
   "file_extension": ".py",
   "mimetype": "text/x-python",
   "name": "python",
   "nbconvert_exporter": "python",
   "pygments_lexer": "ipython3",
   "version": "3.8.3"
  }
 },
 "nbformat": 4,
 "nbformat_minor": 4
}
